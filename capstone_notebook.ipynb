{
 "cells": [
  {
   "cell_type": "markdown",
   "metadata": {},
   "source": [
    "# The Battle Of Neighborhoods"
   ]
  },
  {
   "cell_type": "markdown",
   "metadata": {},
   "source": [
    "## Importing all the libraries required"
   ]
  },
  {
   "cell_type": "code",
   "execution_count": 2,
   "metadata": {},
   "outputs": [
    {
     "name": "stdout",
     "output_type": "stream",
     "text": [
      "Collecting package metadata (current_repodata.json): done\n",
      "Solving environment: done\n",
      "\n",
      "## Package Plan ##\n",
      "\n",
      "  environment location: /home/jupyterlab/conda/envs/python\n",
      "\n",
      "  added / updated specs:\n",
      "    - geopy\n",
      "\n",
      "\n",
      "The following packages will be downloaded:\n",
      "\n",
      "    package                    |            build\n",
      "    ---------------------------|-----------------\n",
      "    geographiclib-1.50         |             py_0          34 KB  conda-forge\n",
      "    geopy-1.22.0               |     pyh9f0ad1d_0          63 KB  conda-forge\n",
      "    ------------------------------------------------------------\n",
      "                                           Total:          97 KB\n",
      "\n",
      "The following NEW packages will be INSTALLED:\n",
      "\n",
      "  geographiclib      conda-forge/noarch::geographiclib-1.50-py_0\n",
      "  geopy              conda-forge/noarch::geopy-1.22.0-pyh9f0ad1d_0\n",
      "\n",
      "\n",
      "\n",
      "Downloading and Extracting Packages\n",
      "geopy-1.22.0         | 63 KB     | ##################################### | 100% \n",
      "geographiclib-1.50   | 34 KB     | ##################################### | 100% \n",
      "Preparing transaction: done\n",
      "Verifying transaction: done\n",
      "Executing transaction: done\n",
      "Collecting yellowbrick\n",
      "\u001b[?25l  Downloading https://files.pythonhosted.org/packages/13/95/a14e4fdfb8b1c8753bbe74a626e910a98219ef9c87c6763585bbd30d84cf/yellowbrick-1.1-py3-none-any.whl (263kB)\n",
      "\u001b[K     |████████████████████████████████| 266kB 22.4MB/s eta 0:00:01\n",
      "\u001b[?25hRequirement already satisfied: numpy>=1.13.0 in /home/jupyterlab/conda/envs/python/lib/python3.6/site-packages (from yellowbrick) (1.18.4)\n",
      "Requirement already satisfied: matplotlib!=3.0.0,>=2.0.2 in /home/jupyterlab/conda/envs/python/lib/python3.6/site-packages (from yellowbrick) (3.1.1)\n",
      "Requirement already satisfied: cycler>=0.10.0 in /home/jupyterlab/conda/envs/python/lib/python3.6/site-packages (from yellowbrick) (0.10.0)\n",
      "Requirement already satisfied: scipy>=1.0.0 in /home/jupyterlab/conda/envs/python/lib/python3.6/site-packages (from yellowbrick) (1.4.1)\n",
      "Requirement already satisfied: scikit-learn>=0.20 in /home/jupyterlab/conda/envs/python/lib/python3.6/site-packages (from yellowbrick) (0.20.1)\n",
      "Requirement already satisfied: pyparsing!=2.0.4,!=2.1.2,!=2.1.6,>=2.0.1 in /home/jupyterlab/conda/envs/python/lib/python3.6/site-packages (from matplotlib!=3.0.0,>=2.0.2->yellowbrick) (2.4.7)\n",
      "Requirement already satisfied: python-dateutil>=2.1 in /home/jupyterlab/conda/envs/python/lib/python3.6/site-packages (from matplotlib!=3.0.0,>=2.0.2->yellowbrick) (2.8.1)\n",
      "Requirement already satisfied: kiwisolver>=1.0.1 in /home/jupyterlab/conda/envs/python/lib/python3.6/site-packages (from matplotlib!=3.0.0,>=2.0.2->yellowbrick) (1.2.0)\n",
      "Requirement already satisfied: six in /home/jupyterlab/conda/envs/python/lib/python3.6/site-packages (from cycler>=0.10.0->yellowbrick) (1.14.0)\n",
      "Installing collected packages: yellowbrick\n",
      "Successfully installed yellowbrick-1.1\n"
     ]
    }
   ],
   "source": [
    "# for data cleaning and wrangling\n",
    "import pandas as pd\n",
    "import numpy as np\n",
    "\n",
    "# for various visualization\n",
    "import seaborn as sns\n",
    "import matplotlib.pyplot as plt\n",
    "%matplotlib inline\n",
    "\n",
    "# for retrive the location coordinates for various locations\n",
    "!conda install -c conda-forge geopy --yes \n",
    "from geopy.geocoders import Nominatim \n",
    "\n",
    "# for plotting the neighborhoods on the map\n",
    "import folium\n",
    "\n",
    "# for handling requests \n",
    "import requests  \n",
    "\n",
    "# for clustering\n",
    "from sklearn.cluster import KMeans\n",
    "\n",
    "# for plotting different clusters in different colors\n",
    "import matplotlib.cm as cm\n",
    "import matplotlib.colors as colors\n",
    "\n",
    "# for evaluation and chosing the optimum K means clustering model\n",
    "! pip install yellowbrick\n",
    "from yellowbrick.cluster import KElbowVisualizer "
   ]
  },
  {
   "cell_type": "markdown",
   "metadata": {},
   "source": [
    "## Getting the regions and neighborhoods in Bangalore"
   ]
  },
  {
   "cell_type": "code",
   "execution_count": 3,
   "metadata": {},
   "outputs": [],
   "source": [
    "central = ['Cantonment', 'Domlur', 'Indiranagar', 'Jeevanbheemanagar', 'Malleswaram', 'Pete', 'Sadashivanagar', 'Seshadripuram', 'Shivajinagar', 'Ulsoor', 'Vasanth Nagar']\n",
    "central_region = []\n",
    "\n",
    "for i in range(len(central)):\n",
    "    \n",
    "    central_region.append('Central')\n",
    "\n",
    "central_df = pd.DataFrame({'Region':central_region, 'Neighborhood': central})\n"
   ]
  },
  {
   "cell_type": "code",
   "execution_count": 4,
   "metadata": {},
   "outputs": [],
   "source": [
    "eastern = ['Bellandur', 'CV Raman Nagar', 'Hoodi', 'Krishnarajapuram', 'Mahadevapura', 'Marathahalli', 'Varthur', 'Whitefield']\n",
    "eastern_region = []\n",
    "\n",
    "for i in range(len(eastern)):\n",
    "    \n",
    "    eastern_region.append('Eastern')\n",
    "\n",
    "eastern_df = pd.DataFrame({'Region':eastern_region, 'Neighborhood': eastern})"
   ]
  },
  {
   "cell_type": "code",
   "execution_count": 5,
   "metadata": {},
   "outputs": [],
   "source": [
    "north_eastern = ['Banaswadi', 'HBR Layout', 'Horamavu', 'Kalyan Nagar', 'Kammanahalli', 'Lingarajapuram', 'Ramamurthy Nagar']\n",
    "north_eastern_region = []\n",
    "\n",
    "for i in range(len(north_eastern)):\n",
    "    \n",
    "    north_eastern_region.append('North Eastern')\n",
    "\n",
    "north_eastern_df = pd.DataFrame({'Region':north_eastern_region, 'Neighborhood': north_eastern})"
   ]
  },
  {
   "cell_type": "code",
   "execution_count": 6,
   "metadata": {},
   "outputs": [],
   "source": [
    "northern = ['Hebbal', 'Jalahalli', 'Mathikere', 'Peenya', 'R. T. Nagar', 'Vidyaranyapura', 'Yelahanka', 'Yeshwanthpur']\n",
    "northern_region = []\n",
    "\n",
    "for i in range(len(northern)):\n",
    "    \n",
    "    northern_region.append('Northern')\n",
    "\n",
    "northern_df = pd.DataFrame({'Region':northern_region, 'Neighborhood': northern})"
   ]
  },
  {
   "cell_type": "code",
   "execution_count": 7,
   "metadata": {},
   "outputs": [],
   "source": [
    "south_eastern = ['Bommanahalli', 'Bommasandra' , 'BTM Layout', 'Electronic City', 'HSR Layout', 'Koramangala', 'Madiwala']\n",
    "south_eastern_region = []\n",
    "\n",
    "for i in range(len(south_eastern)):\n",
    "    \n",
    "    south_eastern_region.append('South Eastern')\n",
    "\n",
    "south_eastern_df = pd.DataFrame({'Region':south_eastern_region, 'Neighborhood': south_eastern})"
   ]
  },
  {
   "cell_type": "code",
   "execution_count": 8,
   "metadata": {},
   "outputs": [],
   "source": [
    "southern = ['Banashankari', 'Basavanagudi', 'Girinagar', 'J. P. Nagar', 'Jayanagar', 'Kumaraswamy Layout', 'Padmanabhanagar', 'Uttarahalli']\n",
    "southern_region = []\n",
    "\n",
    "for i in range(len(southern)):\n",
    "    \n",
    "    southern_region.append('Southern')\n",
    "\n",
    "southern_df = pd.DataFrame({'Region':southern_region, 'Neighborhood': southern})"
   ]
  },
  {
   "cell_type": "code",
   "execution_count": 9,
   "metadata": {},
   "outputs": [],
   "source": [
    "southern_suburbs = ['Anjanapura', 'Arekere', 'Begur', 'Gottigere', 'Hulimavu', 'Kothnur']\n",
    "southern_suburbs_region = []\n",
    "\n",
    "for i in range(len(southern_suburbs)):\n",
    "    \n",
    "    southern_suburbs_region.append('Southern Suburbs')\n",
    "\n",
    "southern_suburbs_df = pd.DataFrame({'Region':southern_suburbs_region, 'Neighborhood': southern_suburbs})\n"
   ]
  },
  {
   "cell_type": "code",
   "execution_count": 10,
   "metadata": {},
   "outputs": [],
   "source": [
    "western = ['Basaveshwaranagar', 'Kamakshipalya', 'Kengeri', 'Mahalakshmi Layout', 'Nagarbhavi', 'Nandini Layout', 'Nayandahalli', 'Rajajinagar', 'Rajarajeshwari Nagar', 'Vijayanagar']\n",
    "western_region = []\n",
    "\n",
    "for i in range(len(western)):\n",
    "    \n",
    "    western_region.append('Western')\n",
    "\n",
    "western_df = pd.DataFrame({'Region':western_region, 'Neighborhood': western})"
   ]
  },
  {
   "cell_type": "code",
   "execution_count": 11,
   "metadata": {},
   "outputs": [
    {
     "name": "stdout",
     "output_type": "stream",
     "text": [
      "The shape of this dataframe is (65, 2).\n",
      " It is shown below\n"
     ]
    },
    {
     "data": {
      "text/html": [
       "<div>\n",
       "<style scoped>\n",
       "    .dataframe tbody tr th:only-of-type {\n",
       "        vertical-align: middle;\n",
       "    }\n",
       "\n",
       "    .dataframe tbody tr th {\n",
       "        vertical-align: top;\n",
       "    }\n",
       "\n",
       "    .dataframe thead th {\n",
       "        text-align: right;\n",
       "    }\n",
       "</style>\n",
       "<table border=\"1\" class=\"dataframe\">\n",
       "  <thead>\n",
       "    <tr style=\"text-align: right;\">\n",
       "      <th></th>\n",
       "      <th>Region</th>\n",
       "      <th>Neighborhood</th>\n",
       "    </tr>\n",
       "  </thead>\n",
       "  <tbody>\n",
       "    <tr>\n",
       "      <th>0</th>\n",
       "      <td>Central</td>\n",
       "      <td>Cantonment</td>\n",
       "    </tr>\n",
       "    <tr>\n",
       "      <th>1</th>\n",
       "      <td>Central</td>\n",
       "      <td>Domlur</td>\n",
       "    </tr>\n",
       "    <tr>\n",
       "      <th>2</th>\n",
       "      <td>Central</td>\n",
       "      <td>Indiranagar</td>\n",
       "    </tr>\n",
       "    <tr>\n",
       "      <th>3</th>\n",
       "      <td>Central</td>\n",
       "      <td>Jeevanbheemanagar</td>\n",
       "    </tr>\n",
       "    <tr>\n",
       "      <th>4</th>\n",
       "      <td>Central</td>\n",
       "      <td>Malleswaram</td>\n",
       "    </tr>\n",
       "    <tr>\n",
       "      <th>...</th>\n",
       "      <td>...</td>\n",
       "      <td>...</td>\n",
       "    </tr>\n",
       "    <tr>\n",
       "      <th>5</th>\n",
       "      <td>Western</td>\n",
       "      <td>Nandini Layout</td>\n",
       "    </tr>\n",
       "    <tr>\n",
       "      <th>6</th>\n",
       "      <td>Western</td>\n",
       "      <td>Nayandahalli</td>\n",
       "    </tr>\n",
       "    <tr>\n",
       "      <th>7</th>\n",
       "      <td>Western</td>\n",
       "      <td>Rajajinagar</td>\n",
       "    </tr>\n",
       "    <tr>\n",
       "      <th>8</th>\n",
       "      <td>Western</td>\n",
       "      <td>Rajarajeshwari Nagar</td>\n",
       "    </tr>\n",
       "    <tr>\n",
       "      <th>9</th>\n",
       "      <td>Western</td>\n",
       "      <td>Vijayanagar</td>\n",
       "    </tr>\n",
       "  </tbody>\n",
       "</table>\n",
       "<p>65 rows × 2 columns</p>\n",
       "</div>"
      ],
      "text/plain": [
       "     Region          Neighborhood\n",
       "0   Central            Cantonment\n",
       "1   Central                Domlur\n",
       "2   Central           Indiranagar\n",
       "3   Central     Jeevanbheemanagar\n",
       "4   Central           Malleswaram\n",
       "..      ...                   ...\n",
       "5   Western        Nandini Layout\n",
       "6   Western          Nayandahalli\n",
       "7   Western           Rajajinagar\n",
       "8   Western  Rajarajeshwari Nagar\n",
       "9   Western           Vijayanagar\n",
       "\n",
       "[65 rows x 2 columns]"
      ]
     },
     "execution_count": 11,
     "metadata": {},
     "output_type": "execute_result"
    }
   ],
   "source": [
    "neighborhoods = pd.concat([central_df, eastern_df, north_eastern_df, northern_df, south_eastern_df, southern_df, southern_suburbs_df, western_df], axis=0)\n",
    "neighborhoods.reset_index(drop=True)\n",
    "print('The shape of this dataframe is {}.\\n It is shown below'.format(neighborhoods.shape))\n",
    "neighborhoods"
   ]
  },
  {
   "cell_type": "markdown",
   "metadata": {},
   "source": [
    "Now we will use geopy to get the coordinates of all the locations. We will use exception handling incase there are missing values"
   ]
  },
  {
   "cell_type": "code",
   "execution_count": 12,
   "metadata": {},
   "outputs": [
    {
     "data": {
      "text/html": [
       "<div>\n",
       "<style scoped>\n",
       "    .dataframe tbody tr th:only-of-type {\n",
       "        vertical-align: middle;\n",
       "    }\n",
       "\n",
       "    .dataframe tbody tr th {\n",
       "        vertical-align: top;\n",
       "    }\n",
       "\n",
       "    .dataframe thead th {\n",
       "        text-align: right;\n",
       "    }\n",
       "</style>\n",
       "<table border=\"1\" class=\"dataframe\">\n",
       "  <thead>\n",
       "    <tr style=\"text-align: right;\">\n",
       "      <th></th>\n",
       "      <th>Region</th>\n",
       "      <th>Neighborhood</th>\n",
       "      <th>Latitude</th>\n",
       "      <th>Longitude</th>\n",
       "    </tr>\n",
       "  </thead>\n",
       "  <tbody>\n",
       "    <tr>\n",
       "      <th>0</th>\n",
       "      <td>Central</td>\n",
       "      <td>Cantonment</td>\n",
       "      <td>12.9791</td>\n",
       "      <td>77.5913</td>\n",
       "    </tr>\n",
       "    <tr>\n",
       "      <th>1</th>\n",
       "      <td>Central</td>\n",
       "      <td>Domlur</td>\n",
       "      <td>12.9625</td>\n",
       "      <td>77.6382</td>\n",
       "    </tr>\n",
       "    <tr>\n",
       "      <th>2</th>\n",
       "      <td>Central</td>\n",
       "      <td>Indiranagar</td>\n",
       "      <td>12.9733</td>\n",
       "      <td>77.6405</td>\n",
       "    </tr>\n",
       "    <tr>\n",
       "      <th>3</th>\n",
       "      <td>Central</td>\n",
       "      <td>Jeevanbheemanagar</td>\n",
       "      <td>NA</td>\n",
       "      <td>NA</td>\n",
       "    </tr>\n",
       "    <tr>\n",
       "      <th>4</th>\n",
       "      <td>Central</td>\n",
       "      <td>Malleswaram</td>\n",
       "      <td>13.0027</td>\n",
       "      <td>77.5703</td>\n",
       "    </tr>\n",
       "    <tr>\n",
       "      <th>...</th>\n",
       "      <td>...</td>\n",
       "      <td>...</td>\n",
       "      <td>...</td>\n",
       "      <td>...</td>\n",
       "    </tr>\n",
       "    <tr>\n",
       "      <th>5</th>\n",
       "      <td>Western</td>\n",
       "      <td>Nandini Layout</td>\n",
       "      <td>13.0104</td>\n",
       "      <td>77.5378</td>\n",
       "    </tr>\n",
       "    <tr>\n",
       "      <th>6</th>\n",
       "      <td>Western</td>\n",
       "      <td>Nayandahalli</td>\n",
       "      <td>12.9413</td>\n",
       "      <td>77.5212</td>\n",
       "    </tr>\n",
       "    <tr>\n",
       "      <th>7</th>\n",
       "      <td>Western</td>\n",
       "      <td>Rajajinagar</td>\n",
       "      <td>12.9882</td>\n",
       "      <td>77.5549</td>\n",
       "    </tr>\n",
       "    <tr>\n",
       "      <th>8</th>\n",
       "      <td>Western</td>\n",
       "      <td>Rajarajeshwari Nagar</td>\n",
       "      <td>12.9274</td>\n",
       "      <td>77.5155</td>\n",
       "    </tr>\n",
       "    <tr>\n",
       "      <th>9</th>\n",
       "      <td>Western</td>\n",
       "      <td>Vijayanagar</td>\n",
       "      <td>12.9719</td>\n",
       "      <td>77.5458</td>\n",
       "    </tr>\n",
       "  </tbody>\n",
       "</table>\n",
       "<p>65 rows × 4 columns</p>\n",
       "</div>"
      ],
      "text/plain": [
       "     Region          Neighborhood Latitude Longitude\n",
       "0   Central            Cantonment  12.9791   77.5913\n",
       "1   Central                Domlur  12.9625   77.6382\n",
       "2   Central           Indiranagar  12.9733   77.6405\n",
       "3   Central     Jeevanbheemanagar       NA        NA\n",
       "4   Central           Malleswaram  13.0027   77.5703\n",
       "..      ...                   ...      ...       ...\n",
       "5   Western        Nandini Layout  13.0104   77.5378\n",
       "6   Western          Nayandahalli  12.9413   77.5212\n",
       "7   Western           Rajajinagar  12.9882   77.5549\n",
       "8   Western  Rajarajeshwari Nagar  12.9274   77.5155\n",
       "9   Western           Vijayanagar  12.9719   77.5458\n",
       "\n",
       "[65 rows x 4 columns]"
      ]
     },
     "execution_count": 12,
     "metadata": {},
     "output_type": "execute_result"
    }
   ],
   "source": [
    "Latitude = []\n",
    "Longitude = []\n",
    "\n",
    "for neighborhood in neighborhoods['Neighborhood']:\n",
    "    \n",
    "    try:\n",
    "        address = '{}, Bengaluru'.format(neighborhood)\n",
    "        geolocator = Nominatim(user_agent=\"my_first_project\")\n",
    "        location = geolocator.geocode(address)\n",
    "        Latitude.append(location.latitude)\n",
    "        Longitude.append(location.longitude)\n",
    "    \n",
    "    \n",
    "    except:\n",
    "        Latitude.append('NA')\n",
    "        Longitude.append('NA')\n",
    "        \n",
    "        \n",
    "    \n",
    "\n",
    "neighborhoods['Latitude'] = Latitude\n",
    "neighborhoods['Longitude'] = Longitude   \n",
    "\n",
    "neighborhoods"
   ]
  },
  {
   "cell_type": "markdown",
   "metadata": {},
   "source": [
    "We will filter out the missing coordinates"
   ]
  },
  {
   "cell_type": "code",
   "execution_count": 13,
   "metadata": {},
   "outputs": [
    {
     "data": {
      "text/html": [
       "<div>\n",
       "<style scoped>\n",
       "    .dataframe tbody tr th:only-of-type {\n",
       "        vertical-align: middle;\n",
       "    }\n",
       "\n",
       "    .dataframe tbody tr th {\n",
       "        vertical-align: top;\n",
       "    }\n",
       "\n",
       "    .dataframe thead th {\n",
       "        text-align: right;\n",
       "    }\n",
       "</style>\n",
       "<table border=\"1\" class=\"dataframe\">\n",
       "  <thead>\n",
       "    <tr style=\"text-align: right;\">\n",
       "      <th></th>\n",
       "      <th>Region</th>\n",
       "      <th>Neighborhood</th>\n",
       "      <th>Latitude</th>\n",
       "      <th>Longitude</th>\n",
       "    </tr>\n",
       "  </thead>\n",
       "  <tbody>\n",
       "    <tr>\n",
       "      <th>3</th>\n",
       "      <td>Central</td>\n",
       "      <td>Jeevanbheemanagar</td>\n",
       "      <td>NA</td>\n",
       "      <td>NA</td>\n",
       "    </tr>\n",
       "  </tbody>\n",
       "</table>\n",
       "</div>"
      ],
      "text/plain": [
       "    Region       Neighborhood Latitude Longitude\n",
       "3  Central  Jeevanbheemanagar       NA        NA"
      ]
     },
     "execution_count": 13,
     "metadata": {},
     "output_type": "execute_result"
    }
   ],
   "source": [
    "missing = neighborhoods[neighborhoods['Latitude'] == 'NA']\n",
    "missing"
   ]
  },
  {
   "cell_type": "markdown",
   "metadata": {},
   "source": [
    "Since it is just one neighborhood whose coordinates are not available, we can Google it and feed it in the dataframe."
   ]
  },
  {
   "cell_type": "code",
   "execution_count": 14,
   "metadata": {},
   "outputs": [],
   "source": [
    "neighborhoods['Latitude'].replace(to_replace='NA', value=12.9642, inplace=True)\n",
    "neighborhoods['Longitude'].replace(to_replace='NA', value=77.6581, inplace=True)"
   ]
  },
  {
   "cell_type": "code",
   "execution_count": 15,
   "metadata": {},
   "outputs": [
    {
     "data": {
      "text/html": [
       "<div>\n",
       "<style scoped>\n",
       "    .dataframe tbody tr th:only-of-type {\n",
       "        vertical-align: middle;\n",
       "    }\n",
       "\n",
       "    .dataframe tbody tr th {\n",
       "        vertical-align: top;\n",
       "    }\n",
       "\n",
       "    .dataframe thead th {\n",
       "        text-align: right;\n",
       "    }\n",
       "</style>\n",
       "<table border=\"1\" class=\"dataframe\">\n",
       "  <thead>\n",
       "    <tr style=\"text-align: right;\">\n",
       "      <th></th>\n",
       "      <th>Region</th>\n",
       "      <th>Neighborhood</th>\n",
       "      <th>Latitude</th>\n",
       "      <th>Longitude</th>\n",
       "    </tr>\n",
       "  </thead>\n",
       "  <tbody>\n",
       "    <tr>\n",
       "      <th>0</th>\n",
       "      <td>Central</td>\n",
       "      <td>Cantonment</td>\n",
       "      <td>12.979120</td>\n",
       "      <td>77.591300</td>\n",
       "    </tr>\n",
       "    <tr>\n",
       "      <th>1</th>\n",
       "      <td>Central</td>\n",
       "      <td>Domlur</td>\n",
       "      <td>12.962467</td>\n",
       "      <td>77.638196</td>\n",
       "    </tr>\n",
       "    <tr>\n",
       "      <th>2</th>\n",
       "      <td>Central</td>\n",
       "      <td>Indiranagar</td>\n",
       "      <td>12.973291</td>\n",
       "      <td>77.640467</td>\n",
       "    </tr>\n",
       "    <tr>\n",
       "      <th>3</th>\n",
       "      <td>Central</td>\n",
       "      <td>Jeevanbheemanagar</td>\n",
       "      <td>12.964200</td>\n",
       "      <td>77.658100</td>\n",
       "    </tr>\n",
       "    <tr>\n",
       "      <th>4</th>\n",
       "      <td>Central</td>\n",
       "      <td>Malleswaram</td>\n",
       "      <td>13.002735</td>\n",
       "      <td>77.570325</td>\n",
       "    </tr>\n",
       "    <tr>\n",
       "      <th>...</th>\n",
       "      <td>...</td>\n",
       "      <td>...</td>\n",
       "      <td>...</td>\n",
       "      <td>...</td>\n",
       "    </tr>\n",
       "    <tr>\n",
       "      <th>5</th>\n",
       "      <td>Western</td>\n",
       "      <td>Nandini Layout</td>\n",
       "      <td>13.010406</td>\n",
       "      <td>77.537803</td>\n",
       "    </tr>\n",
       "    <tr>\n",
       "      <th>6</th>\n",
       "      <td>Western</td>\n",
       "      <td>Nayandahalli</td>\n",
       "      <td>12.941325</td>\n",
       "      <td>77.521212</td>\n",
       "    </tr>\n",
       "    <tr>\n",
       "      <th>7</th>\n",
       "      <td>Western</td>\n",
       "      <td>Rajajinagar</td>\n",
       "      <td>12.988234</td>\n",
       "      <td>77.554883</td>\n",
       "    </tr>\n",
       "    <tr>\n",
       "      <th>8</th>\n",
       "      <td>Western</td>\n",
       "      <td>Rajarajeshwari Nagar</td>\n",
       "      <td>12.927441</td>\n",
       "      <td>77.515522</td>\n",
       "    </tr>\n",
       "    <tr>\n",
       "      <th>9</th>\n",
       "      <td>Western</td>\n",
       "      <td>Vijayanagar</td>\n",
       "      <td>12.971889</td>\n",
       "      <td>77.545789</td>\n",
       "    </tr>\n",
       "  </tbody>\n",
       "</table>\n",
       "<p>65 rows × 4 columns</p>\n",
       "</div>"
      ],
      "text/plain": [
       "     Region          Neighborhood   Latitude  Longitude\n",
       "0   Central            Cantonment  12.979120  77.591300\n",
       "1   Central                Domlur  12.962467  77.638196\n",
       "2   Central           Indiranagar  12.973291  77.640467\n",
       "3   Central     Jeevanbheemanagar  12.964200  77.658100\n",
       "4   Central           Malleswaram  13.002735  77.570325\n",
       "..      ...                   ...        ...        ...\n",
       "5   Western        Nandini Layout  13.010406  77.537803\n",
       "6   Western          Nayandahalli  12.941325  77.521212\n",
       "7   Western           Rajajinagar  12.988234  77.554883\n",
       "8   Western  Rajarajeshwari Nagar  12.927441  77.515522\n",
       "9   Western           Vijayanagar  12.971889  77.545789\n",
       "\n",
       "[65 rows x 4 columns]"
      ]
     },
     "execution_count": 15,
     "metadata": {},
     "output_type": "execute_result"
    }
   ],
   "source": [
    "neighborhoods"
   ]
  },
  {
   "cell_type": "markdown",
   "metadata": {},
   "source": [
    "Let us now check for wrong co-ordinates incase of similarity in names of neighborhoods. For this we will use boxplots, so as to detect outliers."
   ]
  },
  {
   "cell_type": "code",
   "execution_count": 16,
   "metadata": {},
   "outputs": [
    {
     "data": {
      "text/plain": [
       "<matplotlib.axes._subplots.AxesSubplot at 0x7f5135a43400>"
      ]
     },
     "execution_count": 16,
     "metadata": {},
     "output_type": "execute_result"
    },
    {
     "name": "stderr",
     "output_type": "stream",
     "text": [
      "findfont: Font family ['sans-serif'] not found. Falling back to DejaVu Sans.\n",
      "findfont: Font family ['sans-serif'] not found. Falling back to DejaVu Sans.\n"
     ]
    },
    {
     "data": {
      "image/png": "[encoded data removed]",
      "text/plain": [
       "<Figure size 1440x360 with 1 Axes>"
      ]
     },
     "metadata": {},
     "output_type": "display_data"
    }
   ],
   "source": [
    "plt.figure(figsize=(20,5))\n",
    "sns.boxplot(x=neighborhoods['Region'], y=neighborhoods['Latitude'], data=neighborhoods)"
   ]
  },
  {
   "cell_type": "markdown",
   "metadata": {},
   "source": [
    "We can see an outlier in the Eastern regions. We will try getting rid of it"
   ]
  },
  {
   "cell_type": "code",
   "execution_count": 17,
   "metadata": {},
   "outputs": [
    {
     "data": {
      "text/html": [
       "<div>\n",
       "<style scoped>\n",
       "    .dataframe tbody tr th:only-of-type {\n",
       "        vertical-align: middle;\n",
       "    }\n",
       "\n",
       "    .dataframe tbody tr th {\n",
       "        vertical-align: top;\n",
       "    }\n",
       "\n",
       "    .dataframe thead th {\n",
       "        text-align: right;\n",
       "    }\n",
       "</style>\n",
       "<table border=\"1\" class=\"dataframe\">\n",
       "  <thead>\n",
       "    <tr style=\"text-align: right;\">\n",
       "      <th></th>\n",
       "      <th>Region</th>\n",
       "      <th>Neighborhood</th>\n",
       "      <th>Latitude</th>\n",
       "      <th>Longitude</th>\n",
       "    </tr>\n",
       "  </thead>\n",
       "  <tbody>\n",
       "    <tr>\n",
       "      <th>0</th>\n",
       "      <td>Eastern</td>\n",
       "      <td>Bellandur</td>\n",
       "      <td>12.979120</td>\n",
       "      <td>77.591300</td>\n",
       "    </tr>\n",
       "    <tr>\n",
       "      <th>1</th>\n",
       "      <td>Eastern</td>\n",
       "      <td>CV Raman Nagar</td>\n",
       "      <td>17.251068</td>\n",
       "      <td>80.165198</td>\n",
       "    </tr>\n",
       "    <tr>\n",
       "      <th>2</th>\n",
       "      <td>Eastern</td>\n",
       "      <td>Hoodi</td>\n",
       "      <td>12.991903</td>\n",
       "      <td>77.716201</td>\n",
       "    </tr>\n",
       "    <tr>\n",
       "      <th>3</th>\n",
       "      <td>Eastern</td>\n",
       "      <td>Krishnarajapuram</td>\n",
       "      <td>13.000509</td>\n",
       "      <td>77.675394</td>\n",
       "    </tr>\n",
       "    <tr>\n",
       "      <th>4</th>\n",
       "      <td>Eastern</td>\n",
       "      <td>Mahadevapura</td>\n",
       "      <td>12.993498</td>\n",
       "      <td>77.692416</td>\n",
       "    </tr>\n",
       "    <tr>\n",
       "      <th>5</th>\n",
       "      <td>Eastern</td>\n",
       "      <td>Marathahalli</td>\n",
       "      <td>12.955257</td>\n",
       "      <td>77.698416</td>\n",
       "    </tr>\n",
       "    <tr>\n",
       "      <th>6</th>\n",
       "      <td>Eastern</td>\n",
       "      <td>Varthur</td>\n",
       "      <td>12.940615</td>\n",
       "      <td>77.746994</td>\n",
       "    </tr>\n",
       "    <tr>\n",
       "      <th>7</th>\n",
       "      <td>Eastern</td>\n",
       "      <td>Whitefield</td>\n",
       "      <td>12.996400</td>\n",
       "      <td>77.761423</td>\n",
       "    </tr>\n",
       "  </tbody>\n",
       "</table>\n",
       "</div>"
      ],
      "text/plain": [
       "    Region      Neighborhood   Latitude  Longitude\n",
       "0  Eastern         Bellandur  12.979120  77.591300\n",
       "1  Eastern    CV Raman Nagar  17.251068  80.165198\n",
       "2  Eastern             Hoodi  12.991903  77.716201\n",
       "3  Eastern  Krishnarajapuram  13.000509  77.675394\n",
       "4  Eastern      Mahadevapura  12.993498  77.692416\n",
       "5  Eastern      Marathahalli  12.955257  77.698416\n",
       "6  Eastern           Varthur  12.940615  77.746994\n",
       "7  Eastern        Whitefield  12.996400  77.761423"
      ]
     },
     "execution_count": 17,
     "metadata": {},
     "output_type": "execute_result"
    }
   ],
   "source": [
    "neighborhoods[neighborhoods['Region']=='Eastern']"
   ]
  },
  {
   "cell_type": "markdown",
   "metadata": {},
   "source": [
    "A variation of 5 degrees in latitude for a neighborhood in the same city is erroneous, therefore we can Google it and replace it with the correct value"
   ]
  },
  {
   "cell_type": "code",
   "execution_count": 18,
   "metadata": {},
   "outputs": [],
   "source": [
    "neighborhoods.loc[neighborhoods['Neighborhood']=='CV Raman Nagar','Latitude'] = 12.9793\n",
    "neighborhoods.loc[neighborhoods['Neighborhood']=='CV Raman Nagar','Longitude'] = 77.6642"
   ]
  },
  {
   "cell_type": "code",
   "execution_count": 19,
   "metadata": {},
   "outputs": [
    {
     "data": {
      "text/html": [
       "<div>\n",
       "<style scoped>\n",
       "    .dataframe tbody tr th:only-of-type {\n",
       "        vertical-align: middle;\n",
       "    }\n",
       "\n",
       "    .dataframe tbody tr th {\n",
       "        vertical-align: top;\n",
       "    }\n",
       "\n",
       "    .dataframe thead th {\n",
       "        text-align: right;\n",
       "    }\n",
       "</style>\n",
       "<table border=\"1\" class=\"dataframe\">\n",
       "  <thead>\n",
       "    <tr style=\"text-align: right;\">\n",
       "      <th></th>\n",
       "      <th>Region</th>\n",
       "      <th>Neighborhood</th>\n",
       "      <th>Latitude</th>\n",
       "      <th>Longitude</th>\n",
       "    </tr>\n",
       "  </thead>\n",
       "  <tbody>\n",
       "    <tr>\n",
       "      <th>0</th>\n",
       "      <td>Eastern</td>\n",
       "      <td>Bellandur</td>\n",
       "      <td>12.979120</td>\n",
       "      <td>77.591300</td>\n",
       "    </tr>\n",
       "    <tr>\n",
       "      <th>1</th>\n",
       "      <td>Eastern</td>\n",
       "      <td>CV Raman Nagar</td>\n",
       "      <td>12.979300</td>\n",
       "      <td>77.664200</td>\n",
       "    </tr>\n",
       "    <tr>\n",
       "      <th>2</th>\n",
       "      <td>Eastern</td>\n",
       "      <td>Hoodi</td>\n",
       "      <td>12.991903</td>\n",
       "      <td>77.716201</td>\n",
       "    </tr>\n",
       "    <tr>\n",
       "      <th>3</th>\n",
       "      <td>Eastern</td>\n",
       "      <td>Krishnarajapuram</td>\n",
       "      <td>13.000509</td>\n",
       "      <td>77.675394</td>\n",
       "    </tr>\n",
       "    <tr>\n",
       "      <th>4</th>\n",
       "      <td>Eastern</td>\n",
       "      <td>Mahadevapura</td>\n",
       "      <td>12.993498</td>\n",
       "      <td>77.692416</td>\n",
       "    </tr>\n",
       "    <tr>\n",
       "      <th>5</th>\n",
       "      <td>Eastern</td>\n",
       "      <td>Marathahalli</td>\n",
       "      <td>12.955257</td>\n",
       "      <td>77.698416</td>\n",
       "    </tr>\n",
       "    <tr>\n",
       "      <th>6</th>\n",
       "      <td>Eastern</td>\n",
       "      <td>Varthur</td>\n",
       "      <td>12.940615</td>\n",
       "      <td>77.746994</td>\n",
       "    </tr>\n",
       "    <tr>\n",
       "      <th>7</th>\n",
       "      <td>Eastern</td>\n",
       "      <td>Whitefield</td>\n",
       "      <td>12.996400</td>\n",
       "      <td>77.761423</td>\n",
       "    </tr>\n",
       "  </tbody>\n",
       "</table>\n",
       "</div>"
      ],
      "text/plain": [
       "    Region      Neighborhood   Latitude  Longitude\n",
       "0  Eastern         Bellandur  12.979120  77.591300\n",
       "1  Eastern    CV Raman Nagar  12.979300  77.664200\n",
       "2  Eastern             Hoodi  12.991903  77.716201\n",
       "3  Eastern  Krishnarajapuram  13.000509  77.675394\n",
       "4  Eastern      Mahadevapura  12.993498  77.692416\n",
       "5  Eastern      Marathahalli  12.955257  77.698416\n",
       "6  Eastern           Varthur  12.940615  77.746994\n",
       "7  Eastern        Whitefield  12.996400  77.761423"
      ]
     },
     "execution_count": 19,
     "metadata": {},
     "output_type": "execute_result"
    }
   ],
   "source": [
    "neighborhoods[neighborhoods['Region']=='Eastern']"
   ]
  },
  {
   "cell_type": "code",
   "execution_count": 20,
   "metadata": {},
   "outputs": [
    {
     "data": {
      "text/plain": [
       "<matplotlib.axes._subplots.AxesSubplot at 0x7f513567f128>"
      ]
     },
     "execution_count": 20,
     "metadata": {},
     "output_type": "execute_result"
    },
    {
     "data": {
      "image/png": "[encoded data removed]",
      "text/plain": [
       "<Figure size 1440x360 with 1 Axes>"
      ]
     },
     "metadata": {},
     "output_type": "display_data"
    }
   ],
   "source": [
    "plt.figure(figsize=(20,5))\n",
    "sns.boxplot(x=neighborhoods['Region'], y=neighborhoods['Latitude'], data=neighborhoods)"
   ]
  },
  {
   "cell_type": "markdown",
   "metadata": {},
   "source": [
    "Since the variation of latitudes in the city is within 12.85-13.10 degrees, it is safe to say that all the coordinates are correct"
   ]
  },
  {
   "cell_type": "markdown",
   "metadata": {},
   "source": [
    "To double check the coordinates, we will now examine the boxplot for longitudes"
   ]
  },
  {
   "cell_type": "code",
   "execution_count": 21,
   "metadata": {},
   "outputs": [
    {
     "data": {
      "text/plain": [
       "<matplotlib.axes._subplots.AxesSubplot at 0x7f51358bf908>"
      ]
     },
     "execution_count": 21,
     "metadata": {},
     "output_type": "execute_result"
    },
    {
     "data": {
      "image/png": "[encoded data removed]",
      "text/plain": [
       "<Figure size 1440x360 with 1 Axes>"
      ]
     },
     "metadata": {},
     "output_type": "display_data"
    }
   ],
   "source": [
    "plt.figure(figsize=(20,5))\n",
    "sns.boxplot(x=neighborhoods['Region'], y=neighborhoods['Longitude'], data=neighborhoods)"
   ]
  },
  {
   "cell_type": "code",
   "execution_count": 22,
   "metadata": {},
   "outputs": [
    {
     "data": {
      "text/html": [
       "<div>\n",
       "<style scoped>\n",
       "    .dataframe tbody tr th:only-of-type {\n",
       "        vertical-align: middle;\n",
       "    }\n",
       "\n",
       "    .dataframe tbody tr th {\n",
       "        vertical-align: top;\n",
       "    }\n",
       "\n",
       "    .dataframe thead th {\n",
       "        text-align: right;\n",
       "    }\n",
       "</style>\n",
       "<table border=\"1\" class=\"dataframe\">\n",
       "  <thead>\n",
       "    <tr style=\"text-align: right;\">\n",
       "      <th></th>\n",
       "      <th>Region</th>\n",
       "      <th>Neighborhood</th>\n",
       "      <th>Latitude</th>\n",
       "      <th>Longitude</th>\n",
       "    </tr>\n",
       "  </thead>\n",
       "  <tbody>\n",
       "    <tr>\n",
       "      <th>5</th>\n",
       "      <td>Central</td>\n",
       "      <td>Pete</td>\n",
       "      <td>12.999656</td>\n",
       "      <td>76.093298</td>\n",
       "    </tr>\n",
       "  </tbody>\n",
       "</table>\n",
       "</div>"
      ],
      "text/plain": [
       "    Region Neighborhood   Latitude  Longitude\n",
       "5  Central         Pete  12.999656  76.093298"
      ]
     },
     "execution_count": 22,
     "metadata": {},
     "output_type": "execute_result"
    }
   ],
   "source": [
    "neighborhoods[neighborhoods['Longitude'] <=76.25]"
   ]
  },
  {
   "cell_type": "markdown",
   "metadata": {},
   "source": [
    "We find one last outlier, therefore we can google the correct coordinates and enter them"
   ]
  },
  {
   "cell_type": "code",
   "execution_count": 23,
   "metadata": {},
   "outputs": [
    {
     "data": {
      "text/plain": [
       "<matplotlib.axes._subplots.AxesSubplot at 0x7f51359092b0>"
      ]
     },
     "execution_count": 23,
     "metadata": {},
     "output_type": "execute_result"
    },
    {
     "data": {
      "image/png": "[encoded data removed]",
      "text/plain": [
       "<Figure size 1440x360 with 1 Axes>"
      ]
     },
     "metadata": {},
     "output_type": "display_data"
    }
   ],
   "source": [
    "neighborhoods.loc[5, 'Latitude'] = 12.9627 \n",
    "neighborhoods.loc[5, 'Longitude'] = 77.5758\n",
    "plt.figure(figsize=(20,5))\n",
    "sns.boxplot(x=neighborhoods['Region'], y=neighborhoods['Longitude'], data=neighborhoods)"
   ]
  },
  {
   "cell_type": "markdown",
   "metadata": {},
   "source": [
    "Now the variation in longitudes is between 77.50 and 77.75, there it is now safe to say that all the coordinates are correct."
   ]
  },
  {
   "cell_type": "markdown",
   "metadata": {},
   "source": [
    "Our dataframe is now ready"
   ]
  },
  {
   "cell_type": "code",
   "execution_count": 24,
   "metadata": {},
   "outputs": [
    {
     "data": {
      "text/html": [
       "<div>\n",
       "<style scoped>\n",
       "    .dataframe tbody tr th:only-of-type {\n",
       "        vertical-align: middle;\n",
       "    }\n",
       "\n",
       "    .dataframe tbody tr th {\n",
       "        vertical-align: top;\n",
       "    }\n",
       "\n",
       "    .dataframe thead th {\n",
       "        text-align: right;\n",
       "    }\n",
       "</style>\n",
       "<table border=\"1\" class=\"dataframe\">\n",
       "  <thead>\n",
       "    <tr style=\"text-align: right;\">\n",
       "      <th></th>\n",
       "      <th>Region</th>\n",
       "      <th>Neighborhood</th>\n",
       "      <th>Latitude</th>\n",
       "      <th>Longitude</th>\n",
       "    </tr>\n",
       "  </thead>\n",
       "  <tbody>\n",
       "    <tr>\n",
       "      <th>0</th>\n",
       "      <td>Central</td>\n",
       "      <td>Cantonment</td>\n",
       "      <td>12.979120</td>\n",
       "      <td>77.591300</td>\n",
       "    </tr>\n",
       "    <tr>\n",
       "      <th>1</th>\n",
       "      <td>Central</td>\n",
       "      <td>Domlur</td>\n",
       "      <td>12.962467</td>\n",
       "      <td>77.638196</td>\n",
       "    </tr>\n",
       "    <tr>\n",
       "      <th>2</th>\n",
       "      <td>Central</td>\n",
       "      <td>Indiranagar</td>\n",
       "      <td>12.973291</td>\n",
       "      <td>77.640467</td>\n",
       "    </tr>\n",
       "    <tr>\n",
       "      <th>3</th>\n",
       "      <td>Central</td>\n",
       "      <td>Jeevanbheemanagar</td>\n",
       "      <td>12.964200</td>\n",
       "      <td>77.658100</td>\n",
       "    </tr>\n",
       "    <tr>\n",
       "      <th>4</th>\n",
       "      <td>Central</td>\n",
       "      <td>Malleswaram</td>\n",
       "      <td>13.002735</td>\n",
       "      <td>77.570325</td>\n",
       "    </tr>\n",
       "  </tbody>\n",
       "</table>\n",
       "</div>"
      ],
      "text/plain": [
       "    Region       Neighborhood   Latitude  Longitude\n",
       "0  Central         Cantonment  12.979120  77.591300\n",
       "1  Central             Domlur  12.962467  77.638196\n",
       "2  Central        Indiranagar  12.973291  77.640467\n",
       "3  Central  Jeevanbheemanagar  12.964200  77.658100\n",
       "4  Central        Malleswaram  13.002735  77.570325"
      ]
     },
     "execution_count": 24,
     "metadata": {},
     "output_type": "execute_result"
    }
   ],
   "source": [
    "neighborhoods.head()"
   ]
  },
  {
   "cell_type": "markdown",
   "metadata": {},
   "source": [
    "Now let's find the coordinates of Bangalore City, so that we can centre the map around that."
   ]
  },
  {
   "cell_type": "code",
   "execution_count": 25,
   "metadata": {},
   "outputs": [
    {
     "name": "stdout",
     "output_type": "stream",
     "text": [
      "The coordinates of Bangalore are 12.9791198,77.5912997\n"
     ]
    }
   ],
   "source": [
    "Bangalore_location = geolocator.geocode('Bangalore')\n",
    "Latitude = Bangalore_location.latitude\n",
    "Longitude = Bangalore_location.longitude\n",
    "print('The coordinates of Bangalore are {},{}'.format(Latitude, Longitude))"
   ]
  },
  {
   "cell_type": "markdown",
   "metadata": {},
   "source": [
    "Let's plot all the neighborhoods on the map"
   ]
  },
  {
   "cell_type": "code",
   "execution_count": 26,
   "metadata": {},
   "outputs": [
    {
     "data": {
      "text/html": [
       "<div style=\"width:100%;\"><div style=\"position:relative;width:100%;height:0;padding-bottom:60%;\"><span style=\"color:#565656\">Make this Notebook Trusted to load map: File -> Trust Notebook</span><iframe src=\"about:blank\" style=\"position:absolute;width:100%;height:100%;left:0;top:0;border:none !important;\" data-html=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 onload=\"this.contentDocument.open();this.contentDocument.write(atob(this.getAttribute('data-html')));this.contentDocument.close();\" allowfullscreen webkitallowfullscreen mozallowfullscreen></iframe></div></div>"
      ],
      "text/plain": [
       "<folium.folium.Map at 0x7f51354c02b0>"
      ]
     },
     "execution_count": 26,
     "metadata": {},
     "output_type": "execute_result"
    }
   ],
   "source": [
    "bangalore_map = folium.Map(location=[Latitude, Longitude], zoom_start=10)\n",
    "\n",
    "for lat, long, neighborhood, region in zip(neighborhoods['Latitude'] , neighborhoods['Longitude'] , neighborhoods['Neighborhood'], neighborhoods['Region']):\n",
    "    \n",
    "    label = '{}, {}'.format(neighborhood, region)\n",
    "    label = folium.Popup(label, parse_html=True)\n",
    "    folium.features.CircleMarker(location=[lat, long],\n",
    "                                 popup=label,\n",
    "                                 color='blue',\n",
    "                                 fill=True,\n",
    "                                 fill_color='#3186cc',\n",
    "                                 fill_opacity=0.5,\n",
    "                                 radius=5,\n",
    "                                 parse_html=False).add_to(bangalore_map)\n",
    "\n",
    "\n",
    "bangalore_map"
   ]
  },
  {
   "cell_type": "markdown",
   "metadata": {},
   "source": [
    "## Getting the venues in all the neighborhoods in all the boroughs"
   ]
  },
  {
   "cell_type": "markdown",
   "metadata": {},
   "source": [
    "We will enter our credentials to use Foursquare API"
   ]
  },
  {
   "cell_type": "code",
   "execution_count": 27,
   "metadata": {},
   "outputs": [],
   "source": [
    "CLIENT_ID = 'WEZXAWILCFJJGUQME54IOZAU4HTTOW2UJCM4IBQQW0BAB2PL' # your Foursquare ID\n",
    "CLIENT_SECRET = 'CHCA3UMMDMMYJM4SMKPSSIC0ORVW5L4S0N1QHYM2HUZHHOGF' # your Foursquare Secret\n",
    "VERSION = '20180605' # Foursquare API version"
   ]
  },
  {
   "cell_type": "markdown",
   "metadata": {},
   "source": [
    "Let's retrieve the json file for the required neighborhoods and their venues, from Foursquare"
   ]
  },
  {
   "cell_type": "code",
   "execution_count": null,
   "metadata": {},
   "outputs": [],
   "source": [
    "RADIUS = 500\n",
    "LIMIT = 500\n",
    "venues_list = []\n",
    "for name, lat, lng in zip(neighborhoods['Neighborhood'], neighborhoods['Latitude'], neighborhoods['Longitude']):\n",
    "            \n",
    "        # create the API request URL\n",
    "        url = 'https://api.foursquare.com/v2/venues/explore?&client_id={}&client_secret={}&v={}&ll={},{}&radius={}&limit={}'.format(\n",
    "            CLIENT_ID, \n",
    "            CLIENT_SECRET, \n",
    "            VERSION, \n",
    "            lat, \n",
    "            lng, \n",
    "            RADIUS, \n",
    "            LIMIT)\n",
    "            \n",
    "        # make the GET request\n",
    "        results = requests.get(url).json()[\"response\"]['groups'][0]['items']\n",
    "        \n",
    "        # return only relevant information for each nearby venue\n",
    "        for v in results:\n",
    "            \n",
    "            venues_list.append([(\n",
    "            name, \n",
    "            lat, \n",
    "            lng, \n",
    "            v['venue']['name'], \n",
    "            v['venue']['location']['lat'], \n",
    "            v['venue']['location']['lng'],  \n",
    "            v['venue']['categories'][0]['name'])])\n",
    "        \n",
    "        \n",
    "venues = pd.DataFrame([item for venue_list in venues_list for item in venue_list])\n",
    "venues.columns = ['Neighborhood', \n",
    "                  'Neighborhood Latitude', \n",
    "                  'Neighborhood Longitude', \n",
    "                  'Venue', \n",
    "                  'Venue Latitude', \n",
    "                  'Venue Longitude', \n",
    "                  'Venue Category']\n",
    "    \n",
    "venues"
   ]
  },
  {
   "cell_type": "markdown",
   "metadata": {},
   "source": [
    "We will now group the data bu neighborhoods to see how many different categories exist in each neighborhood"
   ]
  },
  {
   "cell_type": "code",
   "execution_count": null,
   "metadata": {},
   "outputs": [],
   "source": [
    "venues.groupby('Neighborhood').count()"
   ]
  },
  {
   "cell_type": "code",
   "execution_count": null,
   "metadata": {},
   "outputs": [],
   "source": [
    "print('There are {} uniques categories.'.format(venues['Venue Category'].nunique()))"
   ]
  },
  {
   "cell_type": "markdown",
   "metadata": {},
   "source": [
    "Now we will use one hot encoding so that we get a numerical value attached to the frequency of occurrence of each kind of category in every neighborhood"
   ]
  },
  {
   "cell_type": "code",
   "execution_count": null,
   "metadata": {},
   "outputs": [],
   "source": [
    "# one hot encoding\n",
    "venues_onehot = pd.get_dummies(venues[['Venue Category']], prefix=\"\", prefix_sep=\"\")\n",
    "\n",
    "\n",
    "# add neighborhood column back to dataframe\n",
    "venues_onehot['Neighborhood'] = venues['Neighborhood'] \n",
    "\n",
    "\n",
    "# move neighborhood column to the first column\n",
    "fixed_columns = [venues_onehot.columns[-1]] + list(venues_onehot.columns[:-1])\n",
    "\n",
    "venues_onehot = venues_onehot[fixed_columns]\n",
    "venues_onehot"
   ]
  },
  {
   "cell_type": "markdown",
   "metadata": {},
   "source": [
    "We will now take their mean. The values below show the exact frequency of occurrence of each category in every neighborhood"
   ]
  },
  {
   "cell_type": "code",
   "execution_count": null,
   "metadata": {},
   "outputs": [],
   "source": [
    "venues_grouped = venues_onehot.groupby('Neighborhood').mean().reset_index()\n",
    "venues_grouped"
   ]
  },
  {
   "cell_type": "markdown",
   "metadata": {},
   "source": [
    "Now we will create a function which takes individual rows for each neighborhood and sorts the 10 most common venues in descending order."
   ]
  },
  {
   "cell_type": "code",
   "execution_count": null,
   "metadata": {},
   "outputs": [],
   "source": [
    "def get_common_venues(row, n_venues):\n",
    "    \n",
    "    row_categories = row.iloc[1:]\n",
    "    row_sorted = row_categories.sort_values(ascending=False)\n",
    "    return row_sorted.index.values[0:n_venues]"
   ]
  },
  {
   "cell_type": "markdown",
   "metadata": {},
   "source": [
    "Let's create a dataframe"
   ]
  },
  {
   "cell_type": "code",
   "execution_count": null,
   "metadata": {},
   "outputs": [],
   "source": [
    "suffix = ['st', 'nd', 'rd']\n",
    "columns = ['Neighborhood']\n",
    "\n",
    "\n",
    "for i in range(1,11):\n",
    "    \n",
    "    try:\n",
    "        columns.append('{}{} most common venue'.format(i,suffix[i-1]))\n",
    "        \n",
    "    except:\n",
    "        columns.append('{}th most common venue'.format(i))\n",
    "        \n",
    "\n",
    "        \n",
    "category_sorted = pd.DataFrame(columns=columns)        \n",
    "        \n",
    "    \n",
    "    \n",
    "category_sorted"
   ]
  },
  {
   "cell_type": "markdown",
   "metadata": {},
   "source": [
    "Now let's fill the dataframe"
   ]
  },
  {
   "cell_type": "code",
   "execution_count": null,
   "metadata": {},
   "outputs": [],
   "source": [
    "category_sorted['Neighborhood'] = venues_grouped['Neighborhood']\n",
    "\n",
    "for i in np.arange(venues_grouped.shape[0]):\n",
    "    \n",
    "    category_sorted.iloc[i, 1:] = get_common_venues(venues_grouped.iloc[i,:], 10)\n",
    "    \n",
    "\n",
    "category_sorted.head()  "
   ]
  },
  {
   "cell_type": "code",
   "execution_count": null,
   "metadata": {},
   "outputs": [],
   "source": [
    "category_sorted.shape"
   ]
  },
  {
   "cell_type": "markdown",
   "metadata": {},
   "source": [
    "## Clustering the neighborhoods based on the venues"
   ]
  },
  {
   "cell_type": "code",
   "execution_count": null,
   "metadata": {},
   "outputs": [],
   "source": [
    "cluster_df = venues_grouped.iloc[:, 1:]\n",
    "cluster_df.head()"
   ]
  },
  {
   "cell_type": "code",
   "execution_count": null,
   "metadata": {},
   "outputs": [],
   "source": [
    "cluster_df.shape"
   ]
  },
  {
   "cell_type": "markdown",
   "metadata": {},
   "source": [
    "We will use the KElbowVisualizer function in the yellowbrick package to find the optimum value of K for clustering"
   ]
  },
  {
   "cell_type": "code",
   "execution_count": null,
   "metadata": {},
   "outputs": [],
   "source": [
    "model = KMeans()\n",
    "visualizer = KElbowVisualizer(model, k=range(1,10))\n",
    "visualizer.fit(cluster_df)\n",
    "visualizer.show()"
   ]
  },
  {
   "cell_type": "markdown",
   "metadata": {},
   "source": [
    "We obtain the elbow point at k=3. Therefore we will perform K-means clustering for k=3"
   ]
  },
  {
   "cell_type": "code",
   "execution_count": null,
   "metadata": {},
   "outputs": [],
   "source": [
    "k = 3   # No. of clusters \n",
    "k_means = KMeans(n_clusters=k, random_state=4)"
   ]
  },
  {
   "cell_type": "code",
   "execution_count": null,
   "metadata": {},
   "outputs": [],
   "source": [
    "clustering = k_means.fit(cluster_df)\n",
    "cluster_label = clustering.labels_ \n",
    "cluster_label"
   ]
  },
  {
   "cell_type": "code",
   "execution_count": null,
   "metadata": {},
   "outputs": [],
   "source": [
    "clustered_neigborhoods = category_sorted\n",
    "clustered_neigborhoods['Cluster'] = cluster_label\n",
    "clustered_neigborhoods"
   ]
  },
  {
   "cell_type": "code",
   "execution_count": null,
   "metadata": {},
   "outputs": [],
   "source": [
    "# To see the no. of neighborhoods in each cluster\n",
    "cluster_dist = pd.DataFrame(clustered_neigborhoods.groupby('Cluster')['Neighborhood'].count())\n",
    "cluster_dist"
   ]
  },
  {
   "cell_type": "markdown",
   "metadata": {},
   "source": [
    "Let's see the distribution of the neighborhoods over the 3 clusters"
   ]
  },
  {
   "cell_type": "code",
   "execution_count": null,
   "metadata": {},
   "outputs": [],
   "source": [
    "cluster_dist.plot(kind='bar')"
   ]
  },
  {
   "cell_type": "markdown",
   "metadata": {},
   "source": [
    "Below is the final dataframe which has the all the regions, neighborhoods, their coordinates, the 10 most common venues in them and the clusters the neighborhoods lie in"
   ]
  },
  {
   "cell_type": "code",
   "execution_count": null,
   "metadata": {},
   "outputs": [],
   "source": [
    "final_df = pd.merge(neighborhoods, clustered_neigborhoods, how='right', on='Neighborhood')\n",
    "final_df"
   ]
  },
  {
   "cell_type": "code",
   "execution_count": null,
   "metadata": {},
   "outputs": [],
   "source": [
    "final_df.drop(['Cluster'], axis=1, inplace=True)"
   ]
  },
  {
   "cell_type": "code",
   "execution_count": null,
   "metadata": {},
   "outputs": [],
   "source": [
    "final_df.insert(4, 'Cluster', cluster_label)\n",
    "final_df"
   ]
  },
  {
   "cell_type": "markdown",
   "metadata": {},
   "source": [
    "## Display of clusters on the map"
   ]
  },
  {
   "cell_type": "code",
   "execution_count": null,
   "metadata": {},
   "outputs": [],
   "source": [
    "# create map\n",
    "map_clusters = folium.Map(location=[Latitude, Longitude], zoom_start=11)\n",
    "\n",
    "# set color scheme for the clusters\n",
    "x = np.arange(k)\n",
    "ys = [i + x + (i*x)**2 for i in range(k)]\n",
    "colors_array = cm.rainbow(np.linspace(0, 1, len(ys)))\n",
    "rainbow = [colors.rgb2hex(i) for i in colors_array]\n",
    "\n",
    "# add markers to the map\n",
    "markers_colors = []\n",
    "for lat, lon, poi, cluster in zip(final_df['Latitude'], final_df['Longitude'], final_df['Neighborhood'], final_df['Cluster']):\n",
    "    label = folium.Popup(str(poi) + ' Cluster ' + str(cluster), parse_html=True)\n",
    "    folium.CircleMarker(\n",
    "        [lat, lon],\n",
    "        radius=5,\n",
    "        popup=label,\n",
    "        color=rainbow[cluster-1],\n",
    "        fill=True,\n",
    "        fill_color=rainbow[cluster-1],\n",
    "        fill_opacity=0.7).add_to(map_clusters)\n",
    "       \n",
    "map_clusters"
   ]
  },
  {
   "cell_type": "markdown",
   "metadata": {},
   "source": [
    "## Examining all the clusters"
   ]
  },
  {
   "cell_type": "markdown",
   "metadata": {},
   "source": [
    "### Cluster 0"
   ]
  },
  {
   "cell_type": "code",
   "execution_count": null,
   "metadata": {},
   "outputs": [],
   "source": [
    "final_df.loc[final_df['Cluster']==0, final_df.columns[[1] + list(range(5, final_df.shape[1]))]]"
   ]
  },
  {
   "cell_type": "markdown",
   "metadata": {},
   "source": [
    "### Cluster 1"
   ]
  },
  {
   "cell_type": "code",
   "execution_count": null,
   "metadata": {},
   "outputs": [],
   "source": [
    "final_df.loc[final_df['Cluster']==1, final_df.columns[[1] + list(range(5, final_df.shape[1]))]]"
   ]
  },
  {
   "cell_type": "markdown",
   "metadata": {},
   "source": [
    "### Cluster 2"
   ]
  },
  {
   "cell_type": "code",
   "execution_count": null,
   "metadata": {},
   "outputs": [],
   "source": [
    "final_df.loc[final_df['Cluster']==2, final_df.columns[[1] + list(range(5, final_df.shape[1]))]]"
   ]
  }
 ],
 "metadata": {
  "kernelspec": {
   "display_name": "Python",
   "language": "python",
   "name": "conda-env-python-py"
  },
  "language_info": {
   "codemirror_mode": {
    "name": "ipython",
    "version": 3
   },
   "file_extension": ".py",
   "mimetype": "text/x-python",
   "name": "python",
   "nbconvert_exporter": "python",
   "pygments_lexer": "ipython3",
   "version": "3.6.10"
  }
 },
 "nbformat": 4,
 "nbformat_minor": 4
}

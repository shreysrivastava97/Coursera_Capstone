{
 "cells": [
  {
   "cell_type": "markdown",
   "metadata": {},
   "source": [
    "# Applied Data Science Capstone "
   ]
  },
  {
   "cell_type": "markdown",
   "metadata": {},
   "source": [
    "## Introduction & Business Problem :"
   ]
  },
  {
   "cell_type": "markdown",
   "metadata": {},
   "source": [
    "### Problem Background:"
   ]
  },
  {
   "cell_type": "markdown",
   "metadata": {},
   "source": [
    "Bangalore, officially Bengaluru, is the capital of the Indian state of Karnataka. It has a population of over ten million, making it a megacity and the third-most populous city and fifth-most populous urban agglomeration in India. Bengaluru is sometimes referred to as the \"Silicon Valley of India\" (or \"IT capital of India\") because of its role as the nation's leading information technology (IT) exporter. Not only has it attracted almost all the major players in the IT industry, it is also a breeding ground for various indigenous companies and startups.\n",
    "\n",
    "It is the second fastest-growing major metropolis in India, having one of the most highly educated workforces in the world. Its workforce comes from all the parts of the country and abroad owing to the increasing job opportunities.  "
   ]
  },
  {
   "cell_type": "markdown",
   "metadata": {},
   "source": [
    "### Problem Description:"
   ]
  },
  {
   "cell_type": "markdown",
   "metadata": {},
   "source": [
    "Since Bangalore is an IT hub, and is still growing, there are multiple job opportunities. In search of better opportunities and to have a better lifestyle employees sometimes change jobs. Now, the metropolis stretches across more than 700 sq km of land, so people have to relocate within the city.\n",
    "\n",
    "When people relocate they look for a similar social environment, the same facilities and similar amenities. These facilities include Grocery Stores, Gyms, Restaurants of various cuisines, Metro/Bus stations for connectivity, etc.\n",
    "\n",
    "\n",
    "\n"
   ]
  },
  {
   "cell_type": "markdown",
   "metadata": {},
   "source": [
    "Therefore, this project aims to help the target audience in the decision making before relocating. The end result will be a map of Bangalore which will show neighborhoods of the same kind in the same color. Therefore, those who are looking to relocate within Bangalore can look at the map and choose a neighborhood to settle in, which is similar to their older neighborhood and close to their workplace."
   ]
  }
 ],
 "metadata": {
  "kernelspec": {
   "display_name": "Python",
   "language": "python",
   "name": "conda-env-python-py"
  },
  "language_info": {
   "codemirror_mode": {
    "name": "ipython",
    "version": 3
   },
   "file_extension": ".py",
   "mimetype": "text/x-python",
   "name": "python",
   "nbconvert_exporter": "python",
   "pygments_lexer": "ipython3",
   "version": "3.6.10"
  }
 },
 "nbformat": 4,
 "nbformat_minor": 4
}
